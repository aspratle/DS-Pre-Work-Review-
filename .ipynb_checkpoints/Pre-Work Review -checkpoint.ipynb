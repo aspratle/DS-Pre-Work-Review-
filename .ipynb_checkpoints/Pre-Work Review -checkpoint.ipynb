{
 "cells": [
  {
   "cell_type": "markdown",
   "id": "5013d56b",
   "metadata": {},
   "source": [
    "# This Notebook is a Review of the Pre-Work Course. \n",
    "# Based on the Review PowerPoint "
   ]
  },
  {
   "cell_type": "markdown",
   "id": "977e1d20",
   "metadata": {},
   "source": [
    "Question 1 :  Change x to a STRING "
   ]
  },
  {
   "cell_type": "code",
   "execution_count": null,
   "id": "90b3d69a",
   "metadata": {},
   "outputs": [],
   "source": [
    "x = 100 \n",
    "\n",
    "#your code here "
   ]
  },
  {
   "cell_type": "markdown",
   "id": "c3ade42c",
   "metadata": {},
   "source": [
    "Question 2:  Change the name variable to all lowercase "
   ]
  },
  {
   "cell_type": "code",
   "execution_count": 1,
   "id": "072d5840",
   "metadata": {},
   "outputs": [
    {
     "data": {
      "text/plain": [
       "'jelly'"
      ]
     },
     "execution_count": 1,
     "metadata": {},
     "output_type": "execute_result"
    }
   ],
   "source": [
    "\n",
    "name = \"JELLY\"\n",
    "\n",
    "#your code here "
   ]
  },
  {
   "cell_type": "markdown",
   "id": "bcd71a2b",
   "metadata": {},
   "source": [
    "Question 3:  Write if/else statements that prints out \"This is a fast course\" or \"This is not a fast course\" "
   ]
  },
  {
   "cell_type": "code",
   "execution_count": null,
   "id": "b052668d",
   "metadata": {},
   "outputs": [],
   "source": [
    "\n",
    "fast_course = True \n",
    "\n",
    "#your code here "
   ]
  },
  {
   "cell_type": "markdown",
   "id": "951ed2ba",
   "metadata": {},
   "source": [
    "Question 4:  Initialize a list with three words that describe you, then print out the 2nd element of the list "
   ]
  },
  {
   "cell_type": "code",
   "execution_count": null,
   "id": "d7bb5082",
   "metadata": {},
   "outputs": [],
   "source": [
    "mywords = [] \n",
    "print"
   ]
  },
  {
   "cell_type": "markdown",
   "id": "8875408f",
   "metadata": {},
   "source": [
    "Question 5:  Create a for loop that iterates through the list below, prints out, and adds 1 to the variable \"rounds\""
   ]
  },
  {
   "cell_type": "code",
   "execution_count": null,
   "id": "4178d80e",
   "metadata": {},
   "outputs": [],
   "source": [
    "nums = [0,1,2,3]\n",
    "rounds = None #replace None with the appropiate value \n",
    "\n",
    "for ____ in _____ : \n",
    "    print() \n",
    "    #add a statement that increases rounds by 1 "
   ]
  },
  {
   "cell_type": "markdown",
   "id": "51bbba74",
   "metadata": {},
   "source": [
    "Question 6:  Below is a 2x3 array.  Create a 3x3 array. "
   ]
  },
  {
   "cell_type": "code",
   "execution_count": 22,
   "id": "2bc3de66",
   "metadata": {},
   "outputs": [
    {
     "data": {
      "text/plain": [
       "array([['a', '180', '100'],\n",
       "       ['b', '200', '122']], dtype='<U21')"
      ]
     },
     "execution_count": 22,
     "metadata": {},
     "output_type": "execute_result"
    }
   ],
   "source": [
    "import numpy as np \n",
    "\n",
    "test_array = np.array([['a', 180, 100], ['b', 200, 122]])\n",
    "test_array\n",
    "\n",
    "\n",
    "#Your code below here \n",
    "\n",
    "my_array = None #replace None \n",
    "my_array #this will print out your array "
   ]
  },
  {
   "cell_type": "markdown",
   "id": "51935554",
   "metadata": {},
   "source": [
    "Question 7:  Create a histogram that contains 12 data points from 100 to 350"
   ]
  },
  {
   "cell_type": "code",
   "execution_count": null,
   "id": "1fe6710a",
   "metadata": {},
   "outputs": [],
   "source": [
    "import matplotlib.pyplot as plot \n",
    "\n",
    "data = [] #Fill in the list with 12 points from 100 to 300 inclusive \n",
    "plt.hist(data, bins=) #determine the size of the bins based on the data you chose above \n",
    "plt.title(\"\") #add your title \n",
    "plt.show()"
   ]
  },
  {
   "cell_type": "markdown",
   "id": "e468b96a",
   "metadata": {},
   "source": [
    "Question 8:  Calculate the IQR of the following list and create a box plot "
   ]
  },
  {
   "cell_type": "code",
   "execution_count": null,
   "id": "cc6f5b68",
   "metadata": {},
   "outputs": [],
   "source": [
    "import numpy as np \n",
    "import matplotlib.pyplot as plt \n",
    "\n",
    "nums = [5, 10, 15, 22, 33, 51, 66, 89, 101, 115, 120, 135]\n",
    "\n",
    "np.percentile(nums, 75) - np.percentile() #fill in the second percentile function \n",
    "\n",
    "plt.style.use('ggplot') # for viewing a grid on plot\n",
    "plt.boxplot(None) #Replace None here \n",
    "plt.title (\"\") #Add a title \n",
    "plt.show()\n",
    "\n",
    "#Write a comment below to describe the dispersion of the box plot "
   ]
  },
  {
   "cell_type": "code",
   "execution_count": null,
   "id": "0aeebded",
   "metadata": {},
   "outputs": [],
   "source": []
  }
 ],
 "metadata": {
  "kernelspec": {
   "display_name": "Python 3",
   "language": "python",
   "name": "python3"
  },
  "language_info": {
   "codemirror_mode": {
    "name": "ipython",
    "version": 3
   },
   "file_extension": ".py",
   "mimetype": "text/x-python",
   "name": "python",
   "nbconvert_exporter": "python",
   "pygments_lexer": "ipython3",
   "version": "3.8.8"
  }
 },
 "nbformat": 4,
 "nbformat_minor": 5
}
