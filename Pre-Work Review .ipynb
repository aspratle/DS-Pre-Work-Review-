{
 "cells": [
  {
   "cell_type": "markdown",
   "id": "5013d56b",
   "metadata": {},
   "source": [
    "# Review of Pre-Work & Python Fundamentals "
   ]
  },
  {
   "cell_type": "markdown",
   "id": "d6481d02",
   "metadata": {},
   "source": [
    "## Lecture Notes "
   ]
  },
  {
   "cell_type": "code",
   "execution_count": null,
   "id": "072cd9b8",
   "metadata": {},
   "outputs": [],
   "source": [
    "#Notes Here"
   ]
  },
  {
   "cell_type": "markdown",
   "id": "f4d54ff2",
   "metadata": {},
   "source": [
    "## Section 1:  Python Data Types & Fundamentals"
   ]
  },
  {
   "cell_type": "markdown",
   "id": "977e1d20",
   "metadata": {},
   "source": [
    "### Question 1 :  Change x to a STRING "
   ]
  },
  {
   "cell_type": "code",
   "execution_count": null,
   "id": "90b3d69a",
   "metadata": {},
   "outputs": [],
   "source": [
    "x = 100 \n",
    "\n",
    "#Your Code Here\n"
   ]
  },
  {
   "cell_type": "markdown",
   "id": "c3ade42c",
   "metadata": {},
   "source": [
    "### Question 2:  Change the name variable to all lowercase "
   ]
  },
  {
   "cell_type": "code",
   "execution_count": null,
   "id": "072d5840",
   "metadata": {},
   "outputs": [],
   "source": [
    "name = \"JELLY\"\n",
    "\n",
    "#Your code here "
   ]
  },
  {
   "cell_type": "markdown",
   "id": "bcd71a2b",
   "metadata": {},
   "source": [
    "### Question 3:  Write if/else statements that prints out \"This is a fast course\" or \"This is not a fast course\" "
   ]
  },
  {
   "cell_type": "code",
   "execution_count": null,
   "id": "b052668d",
   "metadata": {},
   "outputs": [],
   "source": [
    "fast_course = False \n",
    "\n",
    "if fast_course == None: \n",
    "    print(\"\")\n",
    "else: \n",
    "    print(\"\")"
   ]
  },
  {
   "cell_type": "markdown",
   "id": "951ed2ba",
   "metadata": {},
   "source": [
    "### Question 4:  Initialize a list with three words that describe you, then print out the 2nd element of the list "
   ]
  },
  {
   "cell_type": "code",
   "execution_count": null,
   "id": "d7bb5082",
   "metadata": {},
   "outputs": [],
   "source": [
    "#Your Code Here\n",
    "\n",
    "mywords =\n"
   ]
  },
  {
   "cell_type": "markdown",
   "id": "8875408f",
   "metadata": {},
   "source": [
    "### Question 5:  Create a for loop that iterates through the list below, prints out, and adds 1 to the variable \"rounds\""
   ]
  },
  {
   "cell_type": "code",
   "execution_count": null,
   "id": "4178d80e",
   "metadata": {},
   "outputs": [],
   "source": [
    "nums = [0,1,2,3]\n",
    "rounds = 0 #replace None with the appropiate value \n",
    "\n",
    "for num in nums : \n",
    "  #Complete for loop"
   ]
  },
  {
   "cell_type": "markdown",
   "id": "51bbba74",
   "metadata": {},
   "source": [
    "### Question 6:  Below is a 2x3 array.  Create a 3x3 array. "
   ]
  },
  {
   "cell_type": "code",
   "execution_count": null,
   "id": "2bc3de66",
   "metadata": {},
   "outputs": [],
   "source": [
    "import numpy as np \n",
    "\n",
    "test_array = np.array([['a', 180, 100], ['b', 200, 122]])\n",
    "test_array\n",
    "\n",
    "\n",
    "#Your code below here \n"
   ]
  },
  {
   "cell_type": "markdown",
   "id": "51935554",
   "metadata": {},
   "source": [
    "### Question 7:  Create a histogram that contains 12 data points from 100 to 350"
   ]
  },
  {
   "cell_type": "code",
   "execution_count": null,
   "id": "1fe6710a",
   "metadata": {},
   "outputs": [],
   "source": [
    "import matplotlib.pyplot as plt\n",
    "\n",
    "data = [] #Fill in the list with 12 points from 100 to 300 inclusive \n",
    "plt.hist(data, bins=5) #determine the size of the bins based on the data you chose above \n",
    "plt.title(\"\") #add your title \n",
    "plt.show()"
   ]
  },
  {
   "cell_type": "markdown",
   "id": "e468b96a",
   "metadata": {},
   "source": [
    "### Question 8:  Calculate the IQR of the following list and create a box plot "
   ]
  },
  {
   "cell_type": "code",
   "execution_count": null,
   "id": "cc6f5b68",
   "metadata": {},
   "outputs": [],
   "source": [
    "import numpy as np \n",
    "import matplotlib.pyplot as plt \n",
    "\n",
    "nums = [5, 10, 15, 22, 33, 51, 66, 89, 101, 115, 120, 135]\n",
    "\n",
    "np.percentile(nums, 75) - np.percentile() #fill in the second percentile function \n",
    "\n",
    "plt.style.use('ggplot') # for viewing a grid on plot\n",
    "plt.boxplot(None) #Replace None here \n",
    "plt.title (\"\") #Add a title \n",
    "plt.show()\n",
    "\n",
    "#Write a comment below to describe the dispersion of the box plot "
   ]
  },
  {
   "cell_type": "markdown",
   "id": "8de79528",
   "metadata": {},
   "source": [
    "## Section 2:  Statistical Measures"
   ]
  },
  {
   "cell_type": "code",
   "execution_count": null,
   "id": "fe6f80cc",
   "metadata": {},
   "outputs": [],
   "source": [
    "#import the numpy and pandas libraries \n",
    "\n",
    "import numpy as np \n"
   ]
  },
  {
   "cell_type": "markdown",
   "id": "974e4b76",
   "metadata": {},
   "source": [
    "### Question 9:  Change the Python List below into an Array"
   ]
  },
  {
   "cell_type": "code",
   "execution_count": null,
   "id": "96b56876",
   "metadata": {},
   "outputs": [],
   "source": [
    "#Python List \n",
    "\n",
    "list_x = [1, 2, 3]\n",
    "\n",
    "#Change the above list to an array\n",
    "\n",
    "array_x = None "
   ]
  },
  {
   "cell_type": "markdown",
   "id": "fdfef3b0",
   "metadata": {},
   "source": [
    "### Question 10:  Create a multidimensional array and find its shape"
   ]
  },
  {
   "cell_type": "code",
   "execution_count": null,
   "id": "bf07eb39",
   "metadata": {},
   "outputs": [],
   "source": [
    "multi_x = None \n",
    "\n",
    "shape_x = None "
   ]
  },
  {
   "cell_type": "markdown",
   "id": "7fbf8714",
   "metadata": {},
   "source": [
    "### Question 11:  Read in the cars.csv file and view the top 5 rows "
   ]
  },
  {
   "cell_type": "code",
   "execution_count": null,
   "id": "ca09a8e0",
   "metadata": {},
   "outputs": [],
   "source": [
    "#import the pandas library as pd \n",
    "\n",
    "cars = None #replace with reading in the csv \n",
    "\n",
    "#call the .head method on cars \n",
    "None "
   ]
  },
  {
   "cell_type": "markdown",
   "id": "613cda97",
   "metadata": {},
   "source": [
    "## Section 3:  Data Visualizations "
   ]
  },
  {
   "cell_type": "code",
   "execution_count": null,
   "id": "2940dc2b",
   "metadata": {},
   "outputs": [],
   "source": [
    "#Run without changes \n",
    "\n",
    "import matplotlib.pyplot as plt \n",
    "cars = pd.read_csv('data/cars.csv')"
   ]
  },
  {
   "cell_type": "markdown",
   "id": "1fdd7e5a",
   "metadata": {},
   "source": [
    "### Question 12 - Create a scatterplot of the 'Fuel Information.City mpg' column vs. the 'Fuel Information. Highway mpg' column"
   ]
  },
  {
   "cell_type": "code",
   "execution_count": null,
   "id": "02f4aad7",
   "metadata": {},
   "outputs": [],
   "source": [
    "#Create the plot \n",
    "\n",
    "fig, ax = plt.subplots()\n",
    "x = None\n",
    "y = None\n",
    "\n",
    "ax.scatter(x,y)"
   ]
  },
  {
   "cell_type": "markdown",
   "id": "cbd56f2a",
   "metadata": {},
   "source": [
    "### Question 13 - Create a histogrm of Fuel Information.City mpg"
   ]
  },
  {
   "cell_type": "code",
   "execution_count": null,
   "id": "e1eed581",
   "metadata": {},
   "outputs": [],
   "source": [
    "import pandas as pd\n",
    "import matplotlib.pyplot as plt "
   ]
  },
  {
   "cell_type": "code",
   "execution_count": null,
   "id": "c1081011",
   "metadata": {},
   "outputs": [],
   "source": [
    "cars = pd.read_csv('data/cars.csv')\n",
    "cars.info()"
   ]
  },
  {
   "cell_type": "code",
   "execution_count": null,
   "id": "00ec610f",
   "metadata": {},
   "outputs": [],
   "source": [
    "#Create the plot \n",
    "\n",
    "fig, ax = plt.subplots()\n",
    "x = None\n",
    "ax.hist(x)\n",
    "plt.show()"
   ]
  },
  {
   "cell_type": "markdown",
   "id": "09a7e9bd",
   "metadata": {},
   "source": [
    "### Question 14 - Set x and y labels and a title for the above histogram"
   ]
  },
  {
   "cell_type": "code",
   "execution_count": null,
   "id": "e3c8fb8f",
   "metadata": {},
   "outputs": [],
   "source": [
    "fig, ax = plt.subplots()\n",
    "None"
   ]
  }
 ],
 "metadata": {
  "kernelspec": {
   "display_name": "Python 3",
   "language": "python",
   "name": "python3"
  },
  "language_info": {
   "codemirror_mode": {
    "name": "ipython",
    "version": 3
   },
   "file_extension": ".py",
   "mimetype": "text/x-python",
   "name": "python",
   "nbconvert_exporter": "python",
   "pygments_lexer": "ipython3",
   "version": "3.8.8"
  }
 },
 "nbformat": 4,
 "nbformat_minor": 5
}
