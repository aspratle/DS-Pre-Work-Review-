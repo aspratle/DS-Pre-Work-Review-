{
 "cells": [
  {
   "cell_type": "markdown",
   "id": "5013d56b",
   "metadata": {},
   "source": [
    "# Review of Pre-Work & Python Fundamentals "
   ]
  },
  {
   "cell_type": "markdown",
   "id": "d6481d02",
   "metadata": {},
   "source": [
    "## Lecture Notes "
   ]
  },
  {
   "cell_type": "code",
   "execution_count": null,
   "id": "072cd9b8",
   "metadata": {},
   "outputs": [],
   "source": [
    "#Notes Here"
   ]
  },
  {
   "cell_type": "markdown",
   "id": "f4d54ff2",
   "metadata": {},
   "source": [
    "## Section 1:  Python Data Types & Fundamentals"
   ]
  },
  {
   "cell_type": "markdown",
   "id": "977e1d20",
   "metadata": {},
   "source": [
    "### Question 1 :  Change x to a STRING "
   ]
  },
  {
   "cell_type": "code",
   "execution_count": 2,
   "id": "90b3d69a",
   "metadata": {},
   "outputs": [
    {
     "name": "stdout",
     "output_type": "stream",
     "text": [
      "<class 'str'>\n"
     ]
    }
   ],
   "source": [
    "x = 100 \n",
    "\n",
    "#Your Code Here\n",
    "x = str(x)\n",
    "print(type(x))\n"
   ]
  },
  {
   "cell_type": "markdown",
   "id": "c3ade42c",
   "metadata": {},
   "source": [
    "### Question 2:  Change the name variable to all lowercase "
   ]
  },
  {
   "cell_type": "code",
   "execution_count": 3,
   "id": "072d5840",
   "metadata": {},
   "outputs": [
    {
     "data": {
      "text/plain": [
       "'jelly'"
      ]
     },
     "execution_count": 3,
     "metadata": {},
     "output_type": "execute_result"
    }
   ],
   "source": [
    "name = \"JELLY\"\n",
    "\n",
    "#Your code here \n",
    "name.lower()"
   ]
  },
  {
   "cell_type": "markdown",
   "id": "bcd71a2b",
   "metadata": {},
   "source": [
    "### Question 3:  Write if/else statements that prints out \"This is a fast course\" or \"This is not a fast course\" "
   ]
  },
  {
   "cell_type": "code",
   "execution_count": null,
   "id": "b052668d",
   "metadata": {},
   "outputs": [],
   "source": [
    "fast_course = False \n",
    "\n",
    "if fast_course == True: \n",
    "    print(\"This is a fast course\")\n",
    "else: \n",
    "    print(\"This is not a fast course\")"
   ]
  },
  {
   "cell_type": "markdown",
   "id": "951ed2ba",
   "metadata": {},
   "source": [
    "### Question 4:  Initialize a list with three words that describe you, then print out the 2nd element of the list "
   ]
  },
  {
   "cell_type": "code",
   "execution_count": 5,
   "id": "d7bb5082",
   "metadata": {},
   "outputs": [
    {
     "data": {
      "text/plain": [
       "'disneylover'"
      ]
     },
     "execution_count": 5,
     "metadata": {},
     "output_type": "execute_result"
    }
   ],
   "source": [
    "#Your Code Here\n",
    "\n",
    "mywords = ['energetic', 'disneylover', 'accepting']\n",
    "mywords[1]\n"
   ]
  },
  {
   "cell_type": "markdown",
   "id": "8875408f",
   "metadata": {},
   "source": [
    "### Question 5:  Create a for loop that iterates through the list below, prints out, and adds 1 to the variable \"rounds\""
   ]
  },
  {
   "cell_type": "code",
   "execution_count": 10,
   "id": "4178d80e",
   "metadata": {},
   "outputs": [
    {
     "name": "stdout",
     "output_type": "stream",
     "text": [
      "0\n",
      "1\n",
      "2\n",
      "3\n"
     ]
    }
   ],
   "source": [
    "nums = [0,1,2,3]\n",
    "rounds = 0 #replace None with the appropiate value \n",
    "\n",
    "for num in nums: \n",
    "    rounds += 1\n",
    "    print(num)\n",
    "     "
   ]
  },
  {
   "cell_type": "markdown",
   "id": "51bbba74",
   "metadata": {},
   "source": [
    "### Question 6:  Below is a 2x3 array.  Create a 3x3 array. "
   ]
  },
  {
   "cell_type": "code",
   "execution_count": 13,
   "id": "2bc3de66",
   "metadata": {},
   "outputs": [
    {
     "data": {
      "text/plain": [
       "array([['a', '180', '100'],\n",
       "       ['b', '200', '122'],\n",
       "       ['c', '900', '200']], dtype='<U21')"
      ]
     },
     "execution_count": 13,
     "metadata": {},
     "output_type": "execute_result"
    }
   ],
   "source": [
    "import numpy as np \n",
    "\n",
    "test_array = np.array([['a', 180, 100], ['b', 200, 122]])\n",
    "test_array\n",
    "\n",
    "\n",
    "#Your code below here \n",
    "test_array = np.array([['a', 180, 100], ['b', 200, 122],['c', 900, 200]])\n",
    "test_array"
   ]
  },
  {
   "cell_type": "markdown",
   "id": "51935554",
   "metadata": {},
   "source": [
    "### Question 7:  Create a histogram that contains 12 data points from 100 to 350"
   ]
  },
  {
   "cell_type": "code",
   "execution_count": 17,
   "id": "1fe6710a",
   "metadata": {},
   "outputs": [
    {
     "data": {
      "image/png": "[encoded data removed]",
      "text/plain": [
       "<Figure size 432x288 with 1 Axes>"
      ]
     },
     "metadata": {
      "needs_background": "light"
     },
     "output_type": "display_data"
    }
   ],
   "source": [
    "import matplotlib.pyplot as plt\n",
    "\n",
    "data = [120, 150, 181, 210, 215, 256, 270, 280, 281, 290, 295, 299] #Fill in the list with 12 points from 100 to 300 inclusive \n",
    "plt.hist(data, bins=3) #determine the size of the bins based on the data you chose above \n",
    "plt.title(\"Number Histogram\") #add your title \n",
    "plt.show()"
   ]
  },
  {
   "cell_type": "markdown",
   "id": "e468b96a",
   "metadata": {},
   "source": [
    "### Question 8:  Calculate the IQR of the following list and create a box plot "
   ]
  },
  {
   "cell_type": "code",
   "execution_count": 19,
   "id": "cc6f5b68",
   "metadata": {},
   "outputs": [
    {
     "data": {
      "image/png": "[encoded data removed]",
      "text/plain": [
       "<Figure size 432x288 with 1 Axes>"
      ]
     },
     "metadata": {},
     "output_type": "display_data"
    }
   ],
   "source": [
    "import numpy as np \n",
    "import matplotlib.pyplot as plt \n",
    "\n",
    "nums = [5, 10, 15, 22, 33, 51, 66, 89, 101, 115, 120, 135]\n",
    "\n",
    "np.percentile(nums, 75) - np.percentile(nums, 25) #fill in the second percentile function \n",
    "\n",
    "plt.style.use('ggplot') # for viewing a grid on plot\n",
    "plt.boxplot(nums) #Replace None here \n",
    "plt.title (\"Boxplot of Numbers\") #Add a title \n",
    "plt.show()\n",
    "\n",
    "#Write a comment below to describe the dispersion of the box plot "
   ]
  },
  {
   "cell_type": "markdown",
   "id": "8de79528",
   "metadata": {},
   "source": [
    "## Section 2:  Statistical Measures"
   ]
  },
  {
   "cell_type": "code",
   "execution_count": null,
   "id": "fe6f80cc",
   "metadata": {},
   "outputs": [],
   "source": [
    "#import the numpy and pandas libraries \n",
    "\n",
    "import numpy as np \n"
   ]
  },
  {
   "cell_type": "markdown",
   "id": "974e4b76",
   "metadata": {},
   "source": [
    "### Question 9:  Change the Python List below into an Array"
   ]
  },
  {
   "cell_type": "code",
   "execution_count": 21,
   "id": "96b56876",
   "metadata": {},
   "outputs": [
    {
     "name": "stdout",
     "output_type": "stream",
     "text": [
      "<class 'numpy.ndarray'>\n"
     ]
    }
   ],
   "source": [
    "#Python List \n",
    "\n",
    "list_x = [1, 2, 3]\n",
    "\n",
    "#Change the above list to an array\n",
    "\n",
    "array_x = np.array(list_x)\n",
    "print(type(array_x))"
   ]
  },
  {
   "cell_type": "markdown",
   "id": "fdfef3b0",
   "metadata": {},
   "source": [
    "### Question 10:  Create a multidimensional array and find its shape"
   ]
  },
  {
   "cell_type": "code",
   "execution_count": 24,
   "id": "bf07eb39",
   "metadata": {},
   "outputs": [
    {
     "data": {
      "text/plain": [
       "(2, 3)"
      ]
     },
     "execution_count": 24,
     "metadata": {},
     "output_type": "execute_result"
    }
   ],
   "source": [
    "multi_x = np.array([[2, 3, 4], [5, 6, 7]])\n",
    "\n",
    "shape_x = multi_x.shape \n",
    "\n",
    "shape_x"
   ]
  },
  {
   "cell_type": "markdown",
   "id": "7fbf8714",
   "metadata": {},
   "source": [
    "### Question 11:  Read in the cars.csv file and view the top 5 rows "
   ]
  },
  {
   "cell_type": "code",
   "execution_count": 25,
   "id": "ca09a8e0",
   "metadata": {},
   "outputs": [
    {
     "data": {
      "text/html": [
       "<div>\n",
       "<style scoped>\n",
       "    .dataframe tbody tr th:only-of-type {\n",
       "        vertical-align: middle;\n",
       "    }\n",
       "\n",
       "    .dataframe tbody tr th {\n",
       "        vertical-align: top;\n",
       "    }\n",
       "\n",
       "    .dataframe thead th {\n",
       "        text-align: right;\n",
       "    }\n",
       "</style>\n",
       "<table border=\"1\" class=\"dataframe\">\n",
       "  <thead>\n",
       "    <tr style=\"text-align: right;\">\n",
       "      <th></th>\n",
       "      <th>Dimensions.Height</th>\n",
       "      <th>Dimensions.Length</th>\n",
       "      <th>Dimensions.Width</th>\n",
       "      <th>Engine Information.Driveline</th>\n",
       "      <th>Engine Information.Engine Type</th>\n",
       "      <th>Engine Information.Hybrid</th>\n",
       "      <th>Engine Information.Number of Forward Gears</th>\n",
       "      <th>Engine Information.Transmission</th>\n",
       "      <th>Fuel Information.City mpg</th>\n",
       "      <th>Fuel Information.Fuel Type</th>\n",
       "      <th>Fuel Information.Highway mpg</th>\n",
       "      <th>Identification.Classification</th>\n",
       "      <th>Identification.ID</th>\n",
       "      <th>Identification.Make</th>\n",
       "      <th>Identification.Model Year</th>\n",
       "      <th>Identification.Year</th>\n",
       "      <th>Engine Information.Engine Statistics.Horsepower</th>\n",
       "      <th>Engine Information.Engine Statistics.Torque</th>\n",
       "    </tr>\n",
       "  </thead>\n",
       "  <tbody>\n",
       "    <tr>\n",
       "      <th>0</th>\n",
       "      <td>140</td>\n",
       "      <td>143</td>\n",
       "      <td>202</td>\n",
       "      <td>All-wheel drive</td>\n",
       "      <td>Audi 3.2L 6 cylinder 250hp 236ft-lbs</td>\n",
       "      <td>True</td>\n",
       "      <td>6</td>\n",
       "      <td>6 Speed Automatic Select Shift</td>\n",
       "      <td>18</td>\n",
       "      <td>Gasoline</td>\n",
       "      <td>25</td>\n",
       "      <td>Automatic transmission</td>\n",
       "      <td>2009 Audi A3 3.2</td>\n",
       "      <td>Audi</td>\n",
       "      <td>2009 Audi A3</td>\n",
       "      <td>2009</td>\n",
       "      <td>250</td>\n",
       "      <td>236</td>\n",
       "    </tr>\n",
       "    <tr>\n",
       "      <th>1</th>\n",
       "      <td>140</td>\n",
       "      <td>143</td>\n",
       "      <td>202</td>\n",
       "      <td>Front-wheel drive</td>\n",
       "      <td>Audi 2.0L 4 cylinder 200 hp 207 ft-lbs Turbo</td>\n",
       "      <td>True</td>\n",
       "      <td>6</td>\n",
       "      <td>6 Speed Automatic Select Shift</td>\n",
       "      <td>22</td>\n",
       "      <td>Gasoline</td>\n",
       "      <td>28</td>\n",
       "      <td>Automatic transmission</td>\n",
       "      <td>2009 Audi A3 2.0 T AT</td>\n",
       "      <td>Audi</td>\n",
       "      <td>2009 Audi A3</td>\n",
       "      <td>2009</td>\n",
       "      <td>200</td>\n",
       "      <td>207</td>\n",
       "    </tr>\n",
       "    <tr>\n",
       "      <th>2</th>\n",
       "      <td>140</td>\n",
       "      <td>143</td>\n",
       "      <td>202</td>\n",
       "      <td>Front-wheel drive</td>\n",
       "      <td>Audi 2.0L 4 cylinder 200 hp 207 ft-lbs Turbo</td>\n",
       "      <td>True</td>\n",
       "      <td>6</td>\n",
       "      <td>6 Speed Manual</td>\n",
       "      <td>21</td>\n",
       "      <td>Gasoline</td>\n",
       "      <td>30</td>\n",
       "      <td>Manual transmission</td>\n",
       "      <td>2009 Audi A3 2.0 T</td>\n",
       "      <td>Audi</td>\n",
       "      <td>2009 Audi A3</td>\n",
       "      <td>2009</td>\n",
       "      <td>200</td>\n",
       "      <td>207</td>\n",
       "    </tr>\n",
       "    <tr>\n",
       "      <th>3</th>\n",
       "      <td>140</td>\n",
       "      <td>143</td>\n",
       "      <td>202</td>\n",
       "      <td>All-wheel drive</td>\n",
       "      <td>Audi 2.0L 4 cylinder 200 hp 207 ft-lbs Turbo</td>\n",
       "      <td>True</td>\n",
       "      <td>6</td>\n",
       "      <td>6 Speed Automatic Select Shift</td>\n",
       "      <td>21</td>\n",
       "      <td>Gasoline</td>\n",
       "      <td>28</td>\n",
       "      <td>Automatic transmission</td>\n",
       "      <td>2009 Audi A3 2.0 T Quattro</td>\n",
       "      <td>Audi</td>\n",
       "      <td>2009 Audi A3</td>\n",
       "      <td>2009</td>\n",
       "      <td>200</td>\n",
       "      <td>207</td>\n",
       "    </tr>\n",
       "    <tr>\n",
       "      <th>4</th>\n",
       "      <td>140</td>\n",
       "      <td>143</td>\n",
       "      <td>202</td>\n",
       "      <td>All-wheel drive</td>\n",
       "      <td>Audi 2.0L 4 cylinder 200 hp 207 ft-lbs Turbo</td>\n",
       "      <td>True</td>\n",
       "      <td>6</td>\n",
       "      <td>6 Speed Automatic Select Shift</td>\n",
       "      <td>21</td>\n",
       "      <td>Gasoline</td>\n",
       "      <td>28</td>\n",
       "      <td>Automatic transmission</td>\n",
       "      <td>2009 Audi A3 2.0 T Quattro</td>\n",
       "      <td>Audi</td>\n",
       "      <td>2009 Audi A3</td>\n",
       "      <td>2009</td>\n",
       "      <td>200</td>\n",
       "      <td>207</td>\n",
       "    </tr>\n",
       "  </tbody>\n",
       "</table>\n",
       "</div>"
      ],
      "text/plain": [
       "   Dimensions.Height  Dimensions.Length  Dimensions.Width  \\\n",
       "0                140                143               202   \n",
       "1                140                143               202   \n",
       "2                140                143               202   \n",
       "3                140                143               202   \n",
       "4                140                143               202   \n",
       "\n",
       "  Engine Information.Driveline                Engine Information.Engine Type  \\\n",
       "0              All-wheel drive          Audi 3.2L 6 cylinder 250hp 236ft-lbs   \n",
       "1            Front-wheel drive  Audi 2.0L 4 cylinder 200 hp 207 ft-lbs Turbo   \n",
       "2            Front-wheel drive  Audi 2.0L 4 cylinder 200 hp 207 ft-lbs Turbo   \n",
       "3              All-wheel drive  Audi 2.0L 4 cylinder 200 hp 207 ft-lbs Turbo   \n",
       "4              All-wheel drive  Audi 2.0L 4 cylinder 200 hp 207 ft-lbs Turbo   \n",
       "\n",
       "   Engine Information.Hybrid  Engine Information.Number of Forward Gears  \\\n",
       "0                       True                                           6   \n",
       "1                       True                                           6   \n",
       "2                       True                                           6   \n",
       "3                       True                                           6   \n",
       "4                       True                                           6   \n",
       "\n",
       "  Engine Information.Transmission  Fuel Information.City mpg  \\\n",
       "0  6 Speed Automatic Select Shift                         18   \n",
       "1  6 Speed Automatic Select Shift                         22   \n",
       "2                  6 Speed Manual                         21   \n",
       "3  6 Speed Automatic Select Shift                         21   \n",
       "4  6 Speed Automatic Select Shift                         21   \n",
       "\n",
       "  Fuel Information.Fuel Type  Fuel Information.Highway mpg  \\\n",
       "0                   Gasoline                            25   \n",
       "1                   Gasoline                            28   \n",
       "2                   Gasoline                            30   \n",
       "3                   Gasoline                            28   \n",
       "4                   Gasoline                            28   \n",
       "\n",
       "  Identification.Classification           Identification.ID  \\\n",
       "0        Automatic transmission            2009 Audi A3 3.2   \n",
       "1        Automatic transmission       2009 Audi A3 2.0 T AT   \n",
       "2           Manual transmission          2009 Audi A3 2.0 T   \n",
       "3        Automatic transmission  2009 Audi A3 2.0 T Quattro   \n",
       "4        Automatic transmission  2009 Audi A3 2.0 T Quattro   \n",
       "\n",
       "  Identification.Make Identification.Model Year  Identification.Year  \\\n",
       "0                Audi              2009 Audi A3                 2009   \n",
       "1                Audi              2009 Audi A3                 2009   \n",
       "2                Audi              2009 Audi A3                 2009   \n",
       "3                Audi              2009 Audi A3                 2009   \n",
       "4                Audi              2009 Audi A3                 2009   \n",
       "\n",
       "   Engine Information.Engine Statistics.Horsepower  \\\n",
       "0                                              250   \n",
       "1                                              200   \n",
       "2                                              200   \n",
       "3                                              200   \n",
       "4                                              200   \n",
       "\n",
       "   Engine Information.Engine Statistics.Torque  \n",
       "0                                          236  \n",
       "1                                          207  \n",
       "2                                          207  \n",
       "3                                          207  \n",
       "4                                          207  "
      ]
     },
     "execution_count": 25,
     "metadata": {},
     "output_type": "execute_result"
    }
   ],
   "source": [
    "#import the pandas library as pd \n",
    "import pandas as pd \n",
    "cars = pd.read_csv('data/cars.csv') #replace with reading in the csv \n",
    "\n",
    "#call the .head method on cars \n",
    "cars.head()"
   ]
  },
  {
   "cell_type": "markdown",
   "id": "613cda97",
   "metadata": {},
   "source": [
    "## Section 3:  Data Visualizations "
   ]
  },
  {
   "cell_type": "code",
   "execution_count": 26,
   "id": "2940dc2b",
   "metadata": {},
   "outputs": [],
   "source": [
    "#Run without changes \n",
    "\n",
    "import matplotlib.pyplot as plt \n",
    "cars = pd.read_csv('data/cars.csv')"
   ]
  },
  {
   "cell_type": "markdown",
   "id": "1fdd7e5a",
   "metadata": {},
   "source": [
    "### Question 12 - Create a scatterplot of the 'Fuel Information.City mpg' column vs. the 'Fuel Information. Highway mpg' column"
   ]
  },
  {
   "cell_type": "code",
   "execution_count": 27,
   "id": "02f4aad7",
   "metadata": {},
   "outputs": [
    {
     "data": {
      "text/plain": [
       "<matplotlib.collections.PathCollection at 0x7fabc564c340>"
      ]
     },
     "execution_count": 27,
     "metadata": {},
     "output_type": "execute_result"
    },
    {
     "data": {
      "image/png": "[encoded data removed]",
      "text/plain": [
       "<Figure size 432x288 with 1 Axes>"
      ]
     },
     "metadata": {},
     "output_type": "display_data"
    }
   ],
   "source": [
    "#Create the plot \n",
    "\n",
    "fig, ax = plt.subplots()\n",
    "x = cars['Fuel Information.City mpg']\n",
    "y = cars['Fuel Information.Highway mpg']\n",
    "\n",
    "ax.scatter(x,y)"
   ]
  },
  {
   "cell_type": "markdown",
   "id": "cbd56f2a",
   "metadata": {},
   "source": [
    "### Question 13 - Create a histogrm of Fuel Information.City mpg"
   ]
  },
  {
   "cell_type": "code",
   "execution_count": null,
   "id": "e1eed581",
   "metadata": {},
   "outputs": [],
   "source": [
    "import pandas as pd\n",
    "import matplotlib.pyplot as plt "
   ]
  },
  {
   "cell_type": "code",
   "execution_count": null,
   "id": "c1081011",
   "metadata": {},
   "outputs": [],
   "source": [
    "cars = pd.read_csv('data/cars.csv')\n",
    "cars.info()"
   ]
  },
  {
   "cell_type": "code",
   "execution_count": 28,
   "id": "00ec610f",
   "metadata": {},
   "outputs": [
    {
     "data": {
      "image/png": "[encoded data removed]",
      "text/plain": [
       "<Figure size 432x288 with 1 Axes>"
      ]
     },
     "metadata": {},
     "output_type": "display_data"
    }
   ],
   "source": [
    "#Create the plot \n",
    "\n",
    "fig, ax = plt.subplots()\n",
    "x = cars['Fuel Information.City mpg']\n",
    "ax.hist(x)\n",
    "plt.show()"
   ]
  },
  {
   "cell_type": "markdown",
   "id": "09a7e9bd",
   "metadata": {},
   "source": [
    "### Question 14 - Set x and y labels and a title for the above histogram"
   ]
  },
  {
   "cell_type": "code",
   "execution_count": 30,
   "id": "e3c8fb8f",
   "metadata": {},
   "outputs": [
    {
     "data": {
      "image/png": "[encoded data removed]",
      "text/plain": [
       "<Figure size 432x288 with 1 Axes>"
      ]
     },
     "metadata": {},
     "output_type": "display_data"
    }
   ],
   "source": [
    "fig, ax = plt.subplots()\n",
    "x = cars['Fuel Information.City mpg']\n",
    "ax.set_title('City MPG Frequencies')\n",
    "ax.set_xlabel('MPG')\n",
    "ax.set_ylabel('Frequency')\n",
    "ax.hist(x)\n",
    "plt.show()"
   ]
  },
  {
   "cell_type": "code",
   "execution_count": null,
   "id": "ab18d1ee",
   "metadata": {},
   "outputs": [],
   "source": []
  }
 ],
 "metadata": {
  "kernelspec": {
   "display_name": "Python 3",
   "language": "python",
   "name": "python3"
  },
  "language_info": {
   "codemirror_mode": {
    "name": "ipython",
    "version": 3
   },
   "file_extension": ".py",
   "mimetype": "text/x-python",
   "name": "python",
   "nbconvert_exporter": "python",
   "pygments_lexer": "ipython3",
   "version": "3.8.8"
  }
 },
 "nbformat": 4,
 "nbformat_minor": 5
}
